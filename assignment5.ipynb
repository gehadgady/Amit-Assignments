{
 "cells": [
  {
   "cell_type": "code",
   "execution_count": 23,
   "id": "5782cbc3-0caf-4772-b4f1-d48d1dc83074",
   "metadata": {},
   "outputs": [
    {
     "name": "stdout",
     "output_type": "stream",
     "text": [
      "2\n",
      "4\n",
      "6\n",
      "8\n",
      "10\n",
      "12\n",
      "14\n",
      "16\n",
      "18\n",
      "20\n"
     ]
    }
   ],
   "source": [
    "# Task 1: Print Even Numbers# Write a function that prints all even numbers from 1 to 20.\n",
    "def print_even_numbers():\n",
    "    for i in range(1,21):\n",
    "        if i%2 ==0 :\n",
    "            print(i)\n",
    "print_even_numbers()"
   ]
  },
  {
   "cell_type": "code",
   "execution_count": 28,
   "id": "307f057d-6851-4924-b402-349671d543de",
   "metadata": {},
   "outputs": [
    {
     "data": {
      "text/plain": [
       "5"
      ]
     },
     "execution_count": 28,
     "metadata": {},
     "output_type": "execute_result"
    }
   ],
   "source": [
    "# Task 2: Count Vowels in a String# Write a function that counts and prints the number of vowels in a given string.\n",
    "st=\"hello amiit\"\n",
    "def count_vowels(s):\n",
    "    vols=[\"a\",\"e\",\"i\",\"u\",\"o\"]\n",
    "    num=0\n",
    "    for i in s:\n",
    "        if i in vols:\n",
    "            num +=1\n",
    "    return num\n",
    "count_vowels(st)"
   ]
  },
  {
   "cell_type": "code",
   "execution_count": 30,
   "id": "e007741e-b51a-4870-97db-de4b8dc2f34b",
   "metadata": {},
   "outputs": [
    {
     "data": {
      "text/plain": [
       "511"
      ]
     },
     "execution_count": 30,
     "metadata": {},
     "output_type": "execute_result"
    }
   ],
   "source": [
    "# Task 4: Find Maximum in a List# Write a function to find the largest number in a given list.\n",
    "num_list=[2,511,55]\n",
    "def find_max(lst):\n",
    "    largest=lst[0]\n",
    "    for i in lst:\n",
    "        if i> largest:\n",
    "            largest = i\n",
    "    return largest\n",
    "\n",
    "find_max(num_list)"
   ]
  },
  {
   "cell_type": "code",
   "execution_count": 33,
   "id": "3dd963d8-3d38-4888-b922-549c52986945",
   "metadata": {},
   "outputs": [
    {
     "data": {
      "text/plain": [
       "[5, 2, 7]"
      ]
     },
     "execution_count": 33,
     "metadata": {},
     "output_type": "execute_result"
    }
   ],
   "source": [
    "# Task 5: Check for Prime Numbers# Write a function that checks if a given number is prime.\n",
    "def is_prime(n):\n",
    "    prime_list = []\n",
    "    for i in n:\n",
    "        if i <=1:\n",
    "            continue\n",
    "        else:\n",
    "            for j in range(2, int(i/2)+1):\n",
    "                if i % j == 0:\n",
    "                    break\n",
    "            else:\n",
    "                prime_list.append(i)\n",
    "    return prime_list\n",
    "\n",
    "is_prime([1,5,8,2,7,9])"
   ]
  },
  {
   "cell_type": "code",
   "execution_count": 3,
   "id": "65db5110-42bf-49e1-8e52-d18d5389001f",
   "metadata": {},
   "outputs": [
    {
     "name": "stdout",
     "output_type": "stream",
     "text": [
      "1\n",
      "2\n",
      "fizz\n",
      "4\n",
      "buzz\n",
      "fizz\n",
      "7\n",
      "8\n",
      "fizz\n",
      "buzz\n",
      "11\n",
      "fizz\n",
      "13\n",
      "14\n",
      "fizBuzzz\n",
      "16\n",
      "17\n",
      "fizz\n",
      "19\n",
      "buzz\n",
      "fizz\n",
      "22\n",
      "23\n",
      "fizz\n",
      "buzz\n",
      "26\n",
      "fizz\n",
      "28\n",
      "29\n",
      "fizBuzzz\n",
      "31\n",
      "32\n",
      "fizz\n",
      "34\n",
      "buzz\n",
      "fizz\n",
      "37\n",
      "38\n",
      "fizz\n",
      "buzz\n",
      "41\n",
      "fizz\n",
      "43\n",
      "44\n",
      "fizBuzzz\n",
      "46\n",
      "47\n",
      "fizz\n",
      "49\n",
      "buzz\n",
      "fizz\n",
      "52\n",
      "53\n",
      "fizz\n",
      "buzz\n",
      "56\n",
      "fizz\n",
      "58\n",
      "59\n",
      "fizBuzzz\n",
      "61\n",
      "62\n",
      "fizz\n",
      "64\n",
      "buzz\n",
      "fizz\n",
      "67\n",
      "68\n",
      "fizz\n",
      "buzz\n",
      "71\n",
      "fizz\n",
      "73\n",
      "74\n",
      "fizBuzzz\n",
      "76\n",
      "77\n",
      "fizz\n",
      "79\n",
      "buzz\n",
      "fizz\n",
      "82\n",
      "83\n",
      "fizz\n",
      "buzz\n",
      "86\n",
      "fizz\n",
      "88\n",
      "89\n",
      "fizBuzzz\n",
      "91\n",
      "92\n",
      "fizz\n",
      "94\n",
      "buzz\n",
      "fizz\n",
      "97\n",
      "98\n",
      "fizz\n",
      "buzz\n"
     ]
    }
   ],
   "source": [
    "# Task 6: FizzBuzz# Write a function to print numbers from 1 to 100. For multiples of 3,\n",
    "# print \"Fizz\"; for multiples of 5, print \"Buzz\"; and for multiples of both, print \"FizzBuzz\".\n",
    "def fizzbuzz():\n",
    "    for i in range(1,101):\n",
    "        if i%3==0 and i%5==0:\n",
    "            print(\"fizBuzzz\")\n",
    "        elif i%3==0:\n",
    "            print(\"fizz\")\n",
    "        elif i%5==0:\n",
    "            print(\"buzz\")\n",
    "        else:\n",
    "            print(i)\n",
    "fizzbuzz()"
   ]
  },
  {
   "cell_type": "code",
   "execution_count": 5,
   "id": "19474088-53cf-4d21-aabc-cbcf1b980a38",
   "metadata": {},
   "outputs": [
    {
     "name": "stdout",
     "output_type": "stream",
     "text": [
      "5 * 0 = 0\n",
      "5 * 1 = 5\n",
      "5 * 2 = 10\n",
      "5 * 3 = 15\n",
      "5 * 4 = 20\n",
      "5 * 5 = 25\n",
      "5 * 6 = 30\n",
      "5 * 7 = 35\n",
      "5 * 8 = 40\n",
      "5 * 9 = 45\n",
      "5 * 10 = 50\n"
     ]
    }
   ],
   "source": [
    "# Task 7: Generate Multiplication Table# Write a function to generate and print the multiplication table for a given number.\n",
    "num = 5\n",
    "def multiplication_table(n):\n",
    "    for i in range(0,11):\n",
    "        print(f\"{n} * {i} = {n*i}\")\n",
    "\n",
    "multiplication_table(num)"
   ]
  },
  {
   "cell_type": "code",
   "execution_count": 14,
   "id": "7d884c3a-f9e0-423b-b265-16a38f9e6201",
   "metadata": {},
   "outputs": [
    {
     "name": "stdout",
     "output_type": "stream",
     "text": [
      "0\n",
      "1\n",
      "1\n",
      "2\n",
      "3\n",
      "5\n",
      "8\n",
      "13\n",
      "21\n",
      "34\n"
     ]
    }
   ],
   "source": [
    "# Task 9: Print Fibonacci Sequence# Write a function to print the first `n` numbers in the Fibonacci sequence.\n",
    "def fibonacci(n):\n",
    "    a, b = 0, 1\n",
    "    for _ in range(n):\n",
    "        print(a)\n",
    "        a, b = b, a + b \n",
    "fibonacci(10)"
   ]
  },
  {
   "cell_type": "code",
   "execution_count": 22,
   "id": "a02cf0e2-b181-4c9d-90da-5c35c15251cc",
   "metadata": {},
   "outputs": [
    {
     "data": {
      "text/plain": [
       "'tima olleh'"
      ]
     },
     "execution_count": 22,
     "metadata": {},
     "output_type": "execute_result"
    }
   ],
   "source": [
    "# Task 10: Reverse a String# Write a function to reverse a given string without using slicing.\n",
    "st=\"hello amit\"\n",
    "def reverse_string(s):\n",
    "    new_st=\"\"\n",
    "    for i in s:\n",
    "        new_st = i + new_st\n",
    "    return( new_st)\n",
    "reverse_string(st)"
   ]
  },
  {
   "cell_type": "code",
   "execution_count": 30,
   "id": "073d684b-1cde-46f2-8dac-889a264c3796",
   "metadata": {},
   "outputs": [
    {
     "name": "stdout",
     "output_type": "stream",
     "text": [
      "1\n",
      "153\n",
      "370\n",
      "371\n",
      "407\n"
     ]
    }
   ],
   "source": [
    "# Task 11: Find Armstrong Numbers# Write a function to print all Armstrong numbers between 1 and 1000.\n",
    "def armstrong_numbers():\n",
    "    for num in range(1, 1001):\n",
    "        digits = [int(d) for d in str(num)]\n",
    "        # print(digits)\n",
    "        sum_of_cubes = sum(d ** 3 for d in digits)\n",
    "        # print(\"=>\",sum_of_cubes)\n",
    "        if sum_of_cubes == num:\n",
    "            print(num)\n",
    "armstrong_numbers()\n"
   ]
  },
  {
   "cell_type": "code",
   "execution_count": 35,
   "id": "745f2fa4-dd08-4c7b-a15d-3b059bda2045",
   "metadata": {},
   "outputs": [
    {
     "data": {
      "text/plain": [
       "{'h': 1, 'e': 1, 'l': 2, 'o': 1, 'a': 1, 'm': 1, 'i': 2, 't': 4}"
      ]
     },
     "execution_count": 35,
     "metadata": {},
     "output_type": "execute_result"
    }
   ],
   "source": [
    "# Task 12: Count Character Frequency# Write a function to count the frequency of each character in a string.\n",
    "st=\"hello amiitttt\"\n",
    "def char_frequency(s):\n",
    "    freq ={}\n",
    "    for i in s:\n",
    "        if i == \" \":\n",
    "            continue\n",
    "        if i in freq:\n",
    "            freq[i] +=1\n",
    "        else:\n",
    "            freq[i]=1\n",
    "    return freq\n",
    "char_frequency(st)"
   ]
  },
  {
   "cell_type": "code",
   "execution_count": 39,
   "id": "796b97a3-421a-41a5-8c07-9969322dcb6d",
   "metadata": {},
   "outputs": [
    {
     "data": {
      "text/plain": [
       "False"
      ]
     },
     "execution_count": 39,
     "metadata": {},
     "output_type": "execute_result"
    }
   ],
   "source": [
    "# Task 13: Check for Palindrome# Write a function that checks if a given string is a palindrome.\n",
    "st=\"amittimda\"\n",
    "def is_palindrome(s):\n",
    "    rev_st = \"\"\n",
    "    for i in s:\n",
    "        rev_st = i + rev_st\n",
    "    if s == rev_st:\n",
    "        return True\n",
    "    else:\n",
    "        return False\n",
    "is_palindrome(st)"
   ]
  },
  {
   "cell_type": "code",
   "execution_count": 42,
   "id": "407d5c04-1f36-4d09-8cb3-8a2dd6044975",
   "metadata": {},
   "outputs": [
    {
     "data": {
      "text/plain": [
       "[1, 2, 3, 4, 6, 12]"
      ]
     },
     "execution_count": 42,
     "metadata": {},
     "output_type": "execute_result"
    }
   ],
   "source": [
    "# Task 14: Find Factors of a Number# Write a function to find all factors of a given number.\n",
    "num = 12\n",
    "def find_factors(n):\n",
    "    factors=[]\n",
    "    for i in range(1, n+1):\n",
    "        if n%i==0:\n",
    "            factors.append(i)\n",
    "    return factors\n",
    "find_factors(num)"
   ]
  },
  {
   "cell_type": "code",
   "execution_count": 55,
   "id": "f47fad20-5c41-4285-b8c8-ae0cb351f137",
   "metadata": {},
   "outputs": [
    {
     "data": {
      "text/plain": [
       "True"
      ]
     },
     "execution_count": 55,
     "metadata": {},
     "output_type": "execute_result"
    }
   ],
   "source": [
    "# Task 15: Check Perfect Number# Write a function to check if a number is a perfect number.\n",
    "def is_perfect(n):\n",
    "    factors=[]\n",
    "    for i in range(1, n):\n",
    "        if n%i==0:\n",
    "            factors.append(i)\n",
    "    if sum(factors) == n:\n",
    "        return True\n",
    "    else:\n",
    "        return False\n",
    "is_perfect(28)"
   ]
  },
  {
   "cell_type": "code",
   "execution_count": 61,
   "id": "922de69a-45f5-481d-a7b4-45556bf550c5",
   "metadata": {},
   "outputs": [
    {
     "data": {
      "text/plain": [
       "[7, 4]"
      ]
     },
     "execution_count": 61,
     "metadata": {},
     "output_type": "execute_result"
    }
   ],
   "source": [
    "# Task 16: Find Common Elements# Write a function to find the common elements between two lists.\n",
    "list1=[1,5,7,1,4]\n",
    "list2=[2,7,9,4]\n",
    "def common_elements(list1, list2):\n",
    "    co=[]\n",
    "    for i in list1:\n",
    "        for j in list2:\n",
    "            if i == j:\n",
    "                co.append(j)\n",
    "                # print(f\"the common values are: {i} , {j}\")\n",
    "    return co\n",
    "common_elements(list1, list2)"
   ]
  },
  {
   "cell_type": "code",
   "execution_count": 63,
   "id": "d1afe11d-8332-409f-bdd3-56cbf264b653",
   "metadata": {},
   "outputs": [
    {
     "name": "stdout",
     "output_type": "stream",
     "text": [
      "def\n",
      "Khoor, Zruog!\n"
     ]
    }
   ],
   "source": [
    "# Task 17: Caesar Cipher# Write a function to implement a Caesar cipher that shifts letters by `n` positions in the alphabet.\n",
    "def caesar_cipher(text, shift):\n",
    "    result = \"\"\n",
    "    for char in text:\n",
    "        if char.isalpha():\n",
    "            if char.isupper():\n",
    "                result += chr((ord(char) - ord('A') + shift) % 26 + ord('A'))\n",
    "            else:\n",
    "                result += chr((ord(char) - ord('a') + shift) % 26 + ord('a'))\n",
    "        else:\n",
    "            result += char\n",
    "    return result\n",
    "print(caesar_cipher(\"abc\", 3)) \n",
    "print(caesar_cipher(\"Hello, World!\", 3))\n"
   ]
  },
  {
   "cell_type": "code",
   "execution_count": 67,
   "id": "3e7002e2-ded6-4a69-8e27-8c536176e757",
   "metadata": {},
   "outputs": [
    {
     "data": {
      "text/plain": [
       "[0, 1, 2, 5]"
      ]
     },
     "execution_count": 67,
     "metadata": {},
     "output_type": "execute_result"
    }
   ],
   "source": [
    "# Task 18: Sort a List# Write a function to sort a list of numbers in ascending order.\n",
    "lst=[2,5,1,0]\n",
    "def sort_list(lst):\n",
    "    asc_lst=[]\n",
    "    while lst:\n",
    "        small= min(lst)\n",
    "        asc_lst.append(small)\n",
    "        lst.remove(small)\n",
    "    return asc_lst\n",
    "sort_list(lst)        \n",
    "         "
   ]
  },
  {
   "cell_type": "code",
   "execution_count": 69,
   "id": "770a636a-2a39-49c1-b54a-27a53a7ac4ae",
   "metadata": {},
   "outputs": [
    {
     "data": {
      "text/plain": [
       "3"
      ]
     },
     "execution_count": 69,
     "metadata": {},
     "output_type": "execute_result"
    }
   ],
   "source": [
    "# Task 19: Find Missing Number in Range# Write a function to find the missing number in a given range of numbers from 1 to `n`.\n",
    "def find_missing_number(lst, n):\n",
    "    expected_sum = n * (n + 1) // 2\n",
    "    actual_sum = sum(lst)\n",
    "    return expected_sum - actual_sum\n",
    "\n",
    "lst = [1, 2, 4, 5, 6]\n",
    "n = 6\n",
    "find_missing_number(lst, n)                "
   ]
  },
  {
   "cell_type": "code",
   "execution_count": 74,
   "id": "49afd393-d7db-45fb-9562-4ef99b41481a",
   "metadata": {},
   "outputs": [
    {
     "data": {
      "text/plain": [
       "23"
      ]
     },
     "execution_count": 74,
     "metadata": {},
     "output_type": "execute_result"
    }
   ],
   "source": [
    "# Task 20: Binary to Decimal Conversion# Write a function to convert a binary string to its decimal equivalent.\n",
    "def binary_to_decimal(binary):\n",
    "    decimal = 0\n",
    "    binary = binary[::-1]  # Reverse the string to process from right to left\n",
    "    for i in range(len(binary)):\n",
    "        if binary[i] == '1':\n",
    "            decimal += 2 ** i\n",
    "    return decimal\n",
    "\n",
    "binary = \"10111\"\n",
    "binary_to_decimal(binary)\n"
   ]
  },
  {
   "cell_type": "code",
   "execution_count": null,
   "id": "baf3d1d5-981b-43da-838f-0609eb102d84",
   "metadata": {},
   "outputs": [],
   "source": []
  }
 ],
 "metadata": {
  "kernelspec": {
   "display_name": "Python 3 (ipykernel)",
   "language": "python",
   "name": "python3"
  },
  "language_info": {
   "codemirror_mode": {
    "name": "ipython",
    "version": 3
   },
   "file_extension": ".py",
   "mimetype": "text/x-python",
   "name": "python",
   "nbconvert_exporter": "python",
   "pygments_lexer": "ipython3",
   "version": "3.12.7"
  }
 },
 "nbformat": 4,
 "nbformat_minor": 5
}
