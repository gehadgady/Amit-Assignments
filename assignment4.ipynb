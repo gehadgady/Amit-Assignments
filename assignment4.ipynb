{
 "cells": [
  {
   "cell_type": "markdown",
   "id": "1ef2cd1f-463d-4955-a7c2-5e802837a5f3",
   "metadata": {},
   "source": [
    "1. Implement Fibonacci series.\n",
    "2. Write a Python program to find all the unique words and count the frequency of\n",
    "occurrence from a given list of strings.\n",
    "3. Write a Python program that finds all pairs of elements in a list whose sum is equal to a given value.\n",
    "4. Write a Python program to find the two numbers whose product is maximum among all the pairs in a given list of numbers\n",
    "5.\n",
    "Write a Python function that takes a number as a parameter and checks whether the number is prime or not.\n",
    "6. Write a Python function to print the even numbers from a given list.\n",
    "7. Write a function that will take a given string and reverse the order of words.\n",
    "Ex:\n",
    "\"Hello world\" \"world Hello\""
   ]
  },
  {
   "cell_type": "code",
   "execution_count": 1,
   "id": "af7dc43c-8f0d-4715-b57e-8c80f3cd6f2e",
   "metadata": {},
   "outputs": [
    {
     "name": "stdin",
     "output_type": "stream",
     "text": [
      "Enter the number of terms:  5\n"
     ]
    },
    {
     "name": "stdout",
     "output_type": "stream",
     "text": [
      "Fibonacci series up to 5 terms: [0, 1, 1, 2, 3]\n"
     ]
    }
   ],
   "source": [
    "def fibonacci_series(n):\n",
    "    arr = []\n",
    "    a, b = 0, 1\n",
    "    for _ in range(n):\n",
    "        arr.append(a)\n",
    "        a, b = b, a + b\n",
    "    return arr\n",
    "\n",
    "n = int(input(\"Enter the number of terms: \"))\n",
    "print(f\"Fibonacci series up to {n} terms: {fibonacci_series(n)}\")\n"
   ]
  },
  {
   "cell_type": "code",
   "execution_count": 16,
   "id": "06499211-9457-4c51-a9b8-4262003e8c41",
   "metadata": {},
   "outputs": [
    {
     "name": "stdout",
     "output_type": "stream",
     "text": [
      "the frequnacy number of  hi is  1\n",
      "the frequnacy number of  byes is  3\n",
      "the frequnacy number of  good is  2\n",
      "the frequnacy number of  bad is  1\n"
     ]
    },
    {
     "data": {
      "text/plain": [
       "['hi', 'byes', 'good', 'bad']"
      ]
     },
     "execution_count": 16,
     "metadata": {},
     "output_type": "execute_result"
    }
   ],
   "source": [
    "list_of_str = [\"hi\",\"byes\",\"good\",\"byes\",\"bad\",\"good\",\"byes\"]\n",
    "def calc_unique(list_):\n",
    "    unique=[]\n",
    "    \n",
    "    for i in list_:\n",
    "        if i not in unique:\n",
    "            unique.append(i)\n",
    "    for j in unique:\n",
    "        print(\"the frequnacy number of \",j,\"is \",list_.count(j))\n",
    "    return unique\n",
    "calc_unique(list_of_str)"
   ]
  },
  {
   "cell_type": "code",
   "execution_count": 25,
   "id": "6efa23a3-155e-4d4f-8fb4-e3fbd9961085",
   "metadata": {},
   "outputs": [
    {
     "data": {
      "text/plain": [
       "[1, 3]"
      ]
     },
     "execution_count": 25,
     "metadata": {},
     "output_type": "execute_result"
    }
   ],
   "source": [
    "given_value = 4\n",
    "list_=[[2,4],[1,3],[2,3]]\n",
    "def find_sum (l, value):\n",
    "    for i in l:\n",
    "        # print(i)\n",
    "        if i[0] + i[1] ==  value:\n",
    "            return i\n",
    "        else:\n",
    "            pass\n",
    "            # print(\"beo\")\n",
    "find_sum(list_ , given_value)"
   ]
  },
  {
   "cell_type": "code",
   "execution_count": 39,
   "id": "7cab7525-8b1e-4a8a-ad96-bab89bb29680",
   "metadata": {},
   "outputs": [
    {
     "name": "stdout",
     "output_type": "stream",
     "text": [
      "the sum of 88 and 55 equals 143\n"
     ]
    },
    {
     "data": {
      "text/plain": [
       "(88, 55)"
      ]
     },
     "execution_count": 39,
     "metadata": {},
     "output_type": "execute_result"
    }
   ],
   "source": [
    "list_=[4,55,1,2,88]\n",
    "def find_max(l):\n",
    "    max_num1 = max(l)\n",
    "    l.remove(max_num1)\n",
    "    max_num2 =max(l)\n",
    "    print(f\"the sum of {max_num1} and {max_num2} equals {max_num1 + max_num2}\")\n",
    "    return(max_num1, max_num2)\n",
    "find_max(list_)"
   ]
  },
  {
   "cell_type": "code",
   "execution_count": 55,
   "id": "e5cfae79-1936-4e5d-b83d-15926717d15e",
   "metadata": {},
   "outputs": [
    {
     "data": {
      "text/plain": [
       "'it is not a prime'"
      ]
     },
     "execution_count": 55,
     "metadata": {},
     "output_type": "execute_result"
    }
   ],
   "source": [
    "num= 8\n",
    "def check_prime(n):\n",
    "    for i in range(2,n):\n",
    "        if n%i == 0:\n",
    "            return(\"it is not a prime\")\n",
    "            # break\n",
    "        else:\n",
    "            return \"it is prime\"\n",
    "check_prime(num)"
   ]
  },
  {
   "cell_type": "code",
   "execution_count": 56,
   "id": "751dea11-1ef0-4cb8-818e-453b019e2186",
   "metadata": {},
   "outputs": [
    {
     "name": "stdout",
     "output_type": "stream",
     "text": [
      "4\n",
      "2\n",
      "88\n"
     ]
    }
   ],
   "source": [
    "list_=[4,55,1,2,88]\n",
    "def find_even(l):\n",
    "    for i in l:\n",
    "        if i%2==0:\n",
    "            print(i)\n",
    "find_even(list_)\n"
   ]
  },
  {
   "cell_type": "code",
   "execution_count": 70,
   "id": "bc3c31cd-327f-4e62-b948-64182c5b2217",
   "metadata": {},
   "outputs": [
    {
     "name": "stdout",
     "output_type": "stream",
     "text": [
      "world Hello\n"
     ]
    }
   ],
   "source": [
    "word=\"Hello world\"\n",
    "def split_words(w):\n",
    "    new=w.split(\" \")\n",
    "    new.reverse()\n",
    "    print(\" \".join(new))\n",
    "split_words(word)"
   ]
  },
  {
   "cell_type": "markdown",
   "id": "0d2d92e3-b393-4053-920f-8002e1d017e6",
   "metadata": {},
   "source": [
    "\n",
    "8. Given an integer x, return true if x is a palindrome, and false otherwise.\n",
    "Example 1:\n",
    "Input: x = 121\n",
    "Output: true\n",
    "Explanation: 121 reads as 121 from left to right and from right to left.\n",
    "Example 2:\n",
    "Input: x = -121\n",
    "9. Write a Python function that checks whether a passed string is a palindrome or not.\n",
    "10. Write a Python function to create and print a list where the values are the squares of numbers between 1 and 30 (both included)."
   ]
  },
  {
   "cell_type": "code",
   "execution_count": 102,
   "id": "485cf974-2fe2-4ca9-b14e-a7a207288ec6",
   "metadata": {},
   "outputs": [
    {
     "data": {
      "text/plain": [
       "False"
      ]
     },
     "execution_count": 102,
     "metadata": {},
     "output_type": "execute_result"
    }
   ],
   "source": [
    "num = 12211\n",
    "def check_pali(n):\n",
    "    s= str(num)\n",
    "    rev_s=[]\n",
    "    for i in s[::-1]:  # Reverse the string and iterate\n",
    "        rev_s.append(i) \n",
    "    str_rev_s= \"\".join(rev_s)\n",
    "    # print(s)   \n",
    "    # print(str_rev_s)   \n",
    "    return(s == str_rev_s)   \n",
    "    \n",
    "check_pali(num)"
   ]
  },
  {
   "cell_type": "code",
   "execution_count": 104,
   "id": "a12e510e-0bc9-43f7-be7b-10607a5d5053",
   "metadata": {},
   "outputs": [
    {
     "data": {
      "text/plain": [
       "False"
      ]
     },
     "execution_count": 104,
     "metadata": {},
     "output_type": "execute_result"
    }
   ],
   "source": [
    "str_ = \"aabbala\"\n",
    "def check_pali(s):\n",
    "    rev_s=[]\n",
    "    for i in s[::-1]:  # Reverse the string and iterate\n",
    "        rev_s.append(i) \n",
    "    str_rev_s= \"\".join(rev_s)\n",
    "    # print(s)   \n",
    "    # print(str_rev_s)   \n",
    "    return(s == str_rev_s)   \n",
    "    \n",
    "check_pali(str_)"
   ]
  },
  {
   "cell_type": "code",
   "execution_count": 111,
   "id": "7f9c711f-aa69-468b-97e9-c1ccf3c626a3",
   "metadata": {},
   "outputs": [
    {
     "data": {
      "text/plain": [
       "[1,\n",
       " 4,\n",
       " 9,\n",
       " 16,\n",
       " 25,\n",
       " 36,\n",
       " 49,\n",
       " 64,\n",
       " 81,\n",
       " 100,\n",
       " 121,\n",
       " 144,\n",
       " 169,\n",
       " 196,\n",
       " 225,\n",
       " 256,\n",
       " 289,\n",
       " 324,\n",
       " 361,\n",
       " 400,\n",
       " 441,\n",
       " 484,\n",
       " 529,\n",
       " 576,\n",
       " 625,\n",
       " 676,\n",
       " 729,\n",
       " 784,\n",
       " 841,\n",
       " 900]"
      ]
     },
     "execution_count": 111,
     "metadata": {},
     "output_type": "execute_result"
    }
   ],
   "source": [
    "def get_square():\n",
    "    list_=[]\n",
    "    for i in range(1,31):\n",
    "        x=i**2\n",
    "        list_.append(x)\n",
    "    # print(list_)\n",
    "    return list_\n",
    "\n",
    "get_square()"
   ]
  },
  {
   "cell_type": "code",
   "execution_count": null,
   "id": "71358634-2c8e-4028-8331-1e885a79ecbe",
   "metadata": {},
   "outputs": [],
   "source": []
  }
 ],
 "metadata": {
  "kernelspec": {
   "display_name": "Python 3 (ipykernel)",
   "language": "python",
   "name": "python3"
  },
  "language_info": {
   "codemirror_mode": {
    "name": "ipython",
    "version": 3
   },
   "file_extension": ".py",
   "mimetype": "text/x-python",
   "name": "python",
   "nbconvert_exporter": "python",
   "pygments_lexer": "ipython3",
   "version": "3.12.7"
  }
 },
 "nbformat": 4,
 "nbformat_minor": 5
}
