{
 "cells": [
  {
   "cell_type": "markdown",
   "id": "b4089cd0-f27c-4de3-a48a-dd37042ccbca",
   "metadata": {},
   "source": [
    "Task 1 :Write a Python program to create a calculator class. Include methods for basic arithmetic\n",
    "operations"
   ]
  },
  {
   "cell_type": "code",
   "execution_count": 1,
   "id": "abba1e14-cd8b-4add-9a16-757a2a11af33",
   "metadata": {},
   "outputs": [],
   "source": [
    "class Calc ():\n",
    "    def add(self, a,b):\n",
    "        return a+b\n",
    "    def sub(self, a,b):\n",
    "        return a-b\n",
    "    def multible(self, a,b):\n",
    "        return a*b\n",
    "    def divide(self, a,b):\n",
    "        if b == 0:\n",
    "            print(\"the second number can not be ZERO..\")\n",
    "        else:\n",
    "            return a/b\n",
    "        "
   ]
  },
  {
   "cell_type": "code",
   "execution_count": 2,
   "id": "cd6e46ac-a3d5-4f84-a421-88626756f169",
   "metadata": {},
   "outputs": [],
   "source": [
    "clacu= Calc()"
   ]
  },
  {
   "cell_type": "code",
   "execution_count": 3,
   "id": "3f733612-9339-4996-b489-ee54d5234e4f",
   "metadata": {},
   "outputs": [
    {
     "data": {
      "text/plain": [
       "0.5"
      ]
     },
     "execution_count": 3,
     "metadata": {},
     "output_type": "execute_result"
    }
   ],
   "source": [
    "clacu.divide(1,2)"
   ]
  },
  {
   "cell_type": "markdown",
   "id": "774f84fb-a700-42c0-b891-bc5b39fbd8ce",
   "metadata": {},
   "source": [
    "Task 2: Rectangle class:\n",
    "1. Write a Rectangle class in Python language, allowing you to build a rectangle with length and width\n",
    "attributes.\n",
    "2. Create a Perimeter() method to calculate the perimeter of the rectangle and a Area() method to\n",
    "calculate the area of the rectangle.\n",
    "3. Create a method display() that display the length, width, perimeter and area of an object created\n",
    "using an instantiation on rectangle class.\n",
    "4. Create a Parallelepipede child class inheriting from the Rectangle class and with a height attribute\n",
    "and another Volume() method to calculate the volume of the Parallelepiped."
   ]
  },
  {
   "cell_type": "code",
   "execution_count": 32,
   "id": "534da940-a1bb-45ec-8bd7-7782f0ca00e2",
   "metadata": {},
   "outputs": [],
   "source": [
    "class Rectangle():\n",
    "    def __init__(self, length, width):\n",
    "        self.length = length\n",
    "        self.width = width\n",
    "    def perimeter(self):\n",
    "        return 2*(self.length + self.width)\n",
    "    def area(self):\n",
    "        return self.width * self.length\n",
    "    def display(self):\n",
    "        print(f\"the Rectangle length is {self.length}\\nand width is {self.width}\\nthe area is {self.area()}\\nthe permi is {self.perimeter()}\")\n",
    "\n",
    "\n",
    "class Parallelepipede(Rectangle):\n",
    "    def __init__(self, length, width, height):\n",
    "        super().__init__(length, width)\n",
    "        self.height= height\n",
    "    def volume(self):\n",
    "        return self.length * self.width * self.height\n",
    "        \n",
    "        "
   ]
  },
  {
   "cell_type": "code",
   "execution_count": 33,
   "id": "20064b68-5830-4a8a-b816-bfe8513effcc",
   "metadata": {},
   "outputs": [],
   "source": [
    "rec = Rectangle(5,4)"
   ]
  },
  {
   "cell_type": "code",
   "execution_count": 34,
   "id": "10c9c3cb-a825-4130-816a-6c31c16276e1",
   "metadata": {},
   "outputs": [
    {
     "name": "stdout",
     "output_type": "stream",
     "text": [
      "the Rectangle length is 5\n",
      "and width is 4\n",
      "the area is 20\n",
      "the permi is 18\n"
     ]
    }
   ],
   "source": [
    "rec.display()"
   ]
  },
  {
   "cell_type": "code",
   "execution_count": 35,
   "id": "77d5b21b-3c9f-4784-a70f-c448d0f9803c",
   "metadata": {},
   "outputs": [],
   "source": [
    "para = Parallelepipede(5,4,10)"
   ]
  },
  {
   "cell_type": "code",
   "execution_count": 36,
   "id": "764d5e8f-1ace-40d7-a140-74540ae0e893",
   "metadata": {},
   "outputs": [
    {
     "data": {
      "text/plain": [
       "200"
      ]
     },
     "execution_count": 36,
     "metadata": {},
     "output_type": "execute_result"
    }
   ],
   "source": [
    "para.volume()"
   ]
  },
  {
   "cell_type": "markdown",
   "id": "3250667e-ab99-4638-bae1-c6609847ffdf",
   "metadata": {},
   "source": [
    "Task 3: Person class and child Student class\n",
    "Create a Python class Person with attributes: name and age of type string.\n",
    "1. Create a display() method that displays the name and age of an object created via the Person class.\n",
    "2. Create a child class Student which inherits from the Person class and which also has a section\n",
    "attribute.\n",
    "3. Create a method displayStudent() that displays the name, age and section of an object created via the\n",
    "Student class.\n",
    "4. Create a student object via an instantiation on the Student class and then test the displayStudent\n",
    "method."
   ]
  },
  {
   "cell_type": "code",
   "execution_count": 42,
   "id": "1c765fbd-aadb-4ad5-88fa-343d3bc7cd68",
   "metadata": {},
   "outputs": [],
   "source": [
    "class Person():\n",
    "    def __init__(self, name, age):\n",
    "        self.name= name\n",
    "        self.age= age\n",
    "    def display(self):\n",
    "        print(f\"the person's name is {self.name}\\nand their age is {self.age}\")\n",
    "class Student(Person):\n",
    "    def __init__(self, name, age, section):\n",
    "        super().__init__(name, age)\n",
    "        self.section= section\n",
    "    def display_student(self):\n",
    "        print(f\"the student's name is {self.name}\\nthe age is {self.age}\\nand the section is {self.section}\")\n"
   ]
  },
  {
   "cell_type": "code",
   "execution_count": 43,
   "id": "bab9144c-af0c-41bb-b387-35bbf4b54000",
   "metadata": {},
   "outputs": [],
   "source": [
    "st = Student(\"gehad\",546,\"jihadSection\")"
   ]
  },
  {
   "cell_type": "code",
   "execution_count": 44,
   "id": "4b6be490-9d99-4a4b-9a9a-446ff53c47bc",
   "metadata": {},
   "outputs": [
    {
     "name": "stdout",
     "output_type": "stream",
     "text": [
      "the student's name is gehad\n",
      "the age is 546\n",
      "and the section is jihadSection\n"
     ]
    }
   ],
   "source": [
    "st.display_student()"
   ]
  },
  {
   "cell_type": "code",
   "execution_count": null,
   "id": "ffd4dadb-e450-4e63-8350-b574f19e60f1",
   "metadata": {},
   "outputs": [],
   "source": []
  }
 ],
 "metadata": {
  "kernelspec": {
   "display_name": "Python 3 (ipykernel)",
   "language": "python",
   "name": "python3"
  },
  "language_info": {
   "codemirror_mode": {
    "name": "ipython",
    "version": 3
   },
   "file_extension": ".py",
   "mimetype": "text/x-python",
   "name": "python",
   "nbconvert_exporter": "python",
   "pygments_lexer": "ipython3",
   "version": "3.12.7"
  }
 },
 "nbformat": 4,
 "nbformat_minor": 5
}
