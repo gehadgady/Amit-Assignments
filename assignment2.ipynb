{
 "cells": [
  {
   "cell_type": "markdown",
   "id": "66ff4c2f-b061-4eae-aa87-87a94f8e36c4",
   "metadata": {},
   "source": [
    "# Tuples exercises"
   ]
  },
  {
   "cell_type": "markdown",
   "id": "c600351c-438c-4eef-b92e-6f79d438ad36",
   "metadata": {},
   "source": [
    "1. Write a Python program to create a tuple of numbers and print one item."
   ]
  },
  {
   "cell_type": "code",
   "execution_count": 2,
   "id": "d1f8dd8a-9863-4f9f-8452-41ba44f307ba",
   "metadata": {},
   "outputs": [
    {
     "name": "stdout",
     "output_type": "stream",
     "text": [
      "1\n"
     ]
    }
   ],
   "source": [
    "my_tuple = (1,2,3)\n",
    "print(my_tuple[0])"
   ]
  },
  {
   "cell_type": "markdown",
   "id": "1fc15360-5b5f-4755-a240-b3fd47e313c2",
   "metadata": {},
   "source": [
    "2. Write a Python program to unpack a tuple into several variables."
   ]
  },
  {
   "cell_type": "code",
   "execution_count": 4,
   "id": "4212e447-c77d-4a4f-97fb-d2ca1571852d",
   "metadata": {},
   "outputs": [
    {
     "name": "stdout",
     "output_type": "stream",
     "text": [
      "1\n",
      "2\n",
      "3\n"
     ]
    }
   ],
   "source": [
    "a,b,c = my_tuple\n",
    "print(a)\n",
    "print(b)\n",
    "print(c)"
   ]
  },
  {
   "cell_type": "markdown",
   "id": "9877b91e-580a-4f43-bbf8-c6cb1436aee1",
   "metadata": {},
   "source": [
    "3. Write a Python program to add an item to a tuple at index number 2."
   ]
  },
  {
   "cell_type": "code",
   "execution_count": 6,
   "id": "f820f2c8-61e6-4cec-94ba-a07da6827661",
   "metadata": {},
   "outputs": [
    {
     "name": "stdout",
     "output_type": "stream",
     "text": [
      "(1, 2, 111111110, 3)\n"
     ]
    }
   ],
   "source": [
    "new_tuple = list(my_tuple)\n",
    "new_tuple.insert(2,111111110)\n",
    "print(tuple(new_tuple))"
   ]
  },
  {
   "cell_type": "markdown",
   "id": "637b4be2-f0bf-4e6d-b828-ba46b8f73444",
   "metadata": {},
   "source": [
    "4. Write a Python program to convert a tuple to a string."
   ]
  },
  {
   "cell_type": "code",
   "execution_count": 10,
   "id": "a761c8de-f1fa-4437-b7f3-3fbd686de7d5",
   "metadata": {},
   "outputs": [
    {
     "name": "stdout",
     "output_type": "stream",
     "text": [
      "gehad\n",
      "<class 'str'>\n"
     ]
    }
   ],
   "source": [
    "str_tuple=(\"g\",\"e\",\"h\",\"a\",\"d\")\n",
    "print(\"\".join(str_tuple))\n",
    "print(type(\"\".join(str_tuple)))"
   ]
  },
  {
   "cell_type": "markdown",
   "id": "c2e76fb3-56ed-4106-adfb-159f0fba3438",
   "metadata": {},
   "source": [
    "1. ('e', 'x', 'e', 'r', 'c', 'i', 's', 'e', 's') => 'exercises'"
   ]
  },
  {
   "cell_type": "code",
   "execution_count": 14,
   "id": "3b2f70c1-29b2-4af5-9c51-fcae5d0601bb",
   "metadata": {},
   "outputs": [
    {
     "name": "stdout",
     "output_type": "stream",
     "text": [
      "exercises\n"
     ]
    }
   ],
   "source": [
    "ex = ('e', 'x', 'e', 'r', 'c', 'i', 's', 'e', 's')\n",
    "print(\"\".join(ex))"
   ]
  },
  {
   "cell_type": "markdown",
   "id": "7d163337-1421-4a3d-96dd-647bba2ba039",
   "metadata": {},
   "source": [
    "5. Write a Python program to find repeated items in a tuple."
   ]
  },
  {
   "cell_type": "code",
   "execution_count": 17,
   "id": "b2c98350-2c56-4d52-9bfa-a8001e3ca040",
   "metadata": {},
   "outputs": [
    {
     "name": "stdout",
     "output_type": "stream",
     "text": [
      "2\n"
     ]
    }
   ],
   "source": [
    "the_tuple = (1,8,6,3,4,4,2)\n",
    "print(the_tuple.count(4))"
   ]
  },
  {
   "cell_type": "markdown",
   "id": "c49b0419-b32e-453b-b128-d96d99d46f6e",
   "metadata": {},
   "source": [
    "6. Write a Python program to remove an item from a tuple."
   ]
  },
  {
   "cell_type": "code",
   "execution_count": 25,
   "id": "62eb79f3-a1fc-4522-93d5-33903a453f7c",
   "metadata": {},
   "outputs": [
    {
     "name": "stdout",
     "output_type": "stream",
     "text": [
      "(10, 30, 40, 50)\n"
     ]
    }
   ],
   "source": [
    "my_tuple = (10, 20, 30, 40, 50)\n",
    "my_list = list(my_tuple)\n",
    "my_list.pop(1)\n",
    "my_tuple = tuple(my_list)\n",
    "print(my_tuple)"
   ]
  },
  {
   "cell_type": "markdown",
   "id": "e4bc12dc-173e-4cfb-bb00-3e592b0abca6",
   "metadata": {},
   "source": [
    "7. Write a Python program to reverse a tuple."
   ]
  },
  {
   "cell_type": "code",
   "execution_count": 27,
   "id": "c35b0d80-173e-4d42-85f0-1822a8c27281",
   "metadata": {},
   "outputs": [
    {
     "name": "stdout",
     "output_type": "stream",
     "text": [
      "('k', 'e', 'e', 'g', 'f', 'd', 'a', 'z')\n"
     ]
    }
   ],
   "source": [
    "tuples = ('z','a','d','f','g','e','e','k')\n",
    "new_tup = tuples[::-1]  #it takes elements from the back to the front\n",
    "print(new_tup)"
   ]
  },
  {
   "cell_type": "markdown",
   "id": "326e249d-33eb-4a5f-ae63-40c6e0ed04d8",
   "metadata": {},
   "source": [
    "8. Write a Python program to replace the last value of tuples in a list."
   ]
  },
  {
   "cell_type": "code",
   "execution_count": 30,
   "id": "35e49898-81c9-4c5e-b07e-67b1b40d07b5",
   "metadata": {},
   "outputs": [
    {
     "name": "stdout",
     "output_type": "stream",
     "text": [
      "(10, 20, 30, 40, [1, 'beoeo', 'yes', 'NO'])\n"
     ]
    }
   ],
   "source": [
    "my_tuple = (10, 20, 30, 40, 50)\n",
    "my_list = list(my_tuple)\n",
    "my_list[-1]=[1,\"beoeo\",\"yes\",\"NO\"]\n",
    "my_tuple = tuple(my_list)\n",
    "print(my_tuple)"
   ]
  },
  {
   "cell_type": "markdown",
   "id": "0321f58e-d14d-4a90-89cd-caf9ecf3fa77",
   "metadata": {},
   "source": [
    "# List Exercises"
   ]
  },
  {
   "cell_type": "markdown",
   "id": "e58e3f9c-e26d-47dd-93d2-de2728b20612",
   "metadata": {},
   "source": [
    "1. Create a list of your favorite fruits. Add another fruit to the end of the list using append()."
   ]
  },
  {
   "cell_type": "code",
   "execution_count": 31,
   "id": "6be7f6a3-1a67-4a64-92f3-17e41a4aea06",
   "metadata": {},
   "outputs": [
    {
     "name": "stdout",
     "output_type": "stream",
     "text": [
      "['fruit1', 'fruit2', 'fruit3', 'fruit4']\n"
     ]
    }
   ],
   "source": [
    "my_fruit_list= [\"fruit1\",\"fruit2\",\"fruit3\"]\n",
    "my_fruit_list.append(\"fruit4\")\n",
    "print(my_fruit_list)"
   ]
  },
  {
   "cell_type": "markdown",
   "id": "76acd2ad-7b0e-4a8d-b038-5956a3edfc0b",
   "metadata": {},
   "source": [
    "2. Create two lists of numbers, then extend the first list by adding all elements from the second list using extend()"
   ]
  },
  {
   "cell_type": "code",
   "execution_count": 33,
   "id": "28ae3393-5bdb-423a-9471-7a94b7ed5134",
   "metadata": {},
   "outputs": [
    {
     "name": "stdout",
     "output_type": "stream",
     "text": [
      "[1, 2, 3, 10, 9, 8888]\n"
     ]
    }
   ],
   "source": [
    "list1 = [1,2,3]\n",
    "list2 = [10,9,8888]\n",
    "list1.extend(list2)\n",
    "print(list1)"
   ]
  },
  {
   "cell_type": "markdown",
   "id": "4b2061fb-887f-4e0a-b2ef-d2cab658a9de",
   "metadata": {},
   "source": [
    "3. insert(index, item) Start with a list of colors. Insert a new color at the second position (index 1)."
   ]
  },
  {
   "cell_type": "code",
   "execution_count": 34,
   "id": "021b7b38-d860-4697-9ff1-71f4170dc58d",
   "metadata": {},
   "outputs": [
    {
     "name": "stdout",
     "output_type": "stream",
     "text": [
      "['red', 'Thulian', 'pink', 'rose']\n"
     ]
    }
   ],
   "source": [
    "colors = [\"red\",\"pink\",\"rose\"]\n",
    "colors.insert(1,\"Thulian\")\n",
    "print(colors)"
   ]
  },
  {
   "cell_type": "markdown",
   "id": "44e51700-757b-4591-b5bf-1be4f330c95b",
   "metadata": {},
   "source": [
    "4. Create a list of city names with some duplicates. Use remove() to delete the first occurrence of a city"
   ]
  },
  {
   "cell_type": "code",
   "execution_count": 35,
   "id": "2accaa21-5b1a-40ee-8120-507dc8a124fd",
   "metadata": {},
   "outputs": [
    {
     "name": "stdout",
     "output_type": "stream",
     "text": [
      "['city1', 'city2', 'city4', 'city3']\n"
     ]
    }
   ],
   "source": [
    "cities = [\"city1\",\"city2\",\"city3\", \"city4\",\"city3\"]\n",
    "cities.remove(\"city3\")\n",
    "print(cities)"
   ]
  },
  {
   "cell_type": "markdown",
   "id": "315a8ae2-e29d-40ef-9d30-87951b30092c",
   "metadata": {},
   "source": [
    "5. pop(index) Make a list of your favorite animals. Use pop() to remove the animal at the third position and store it in a variable."
   ]
  },
  {
   "cell_type": "code",
   "execution_count": 36,
   "id": "9ca60dff-fb57-4247-a017-cd14e59c92f2",
   "metadata": {},
   "outputs": [
    {
     "name": "stdout",
     "output_type": "stream",
     "text": [
      "['animal1', 'animal2', 'animal4', 'animal3']\n"
     ]
    }
   ],
   "source": [
    "animals = [\"animal1\",\"animal2\",\"animal3\", \"animal4\",\"animal3\"]\n",
    "animals.pop(2)\n",
    "print(animals)"
   ]
  },
  {
   "cell_type": "markdown",
   "id": "30ecb4a1-ff87-41ef-98fa-71b4c55b0e93",
   "metadata": {},
   "source": [
    "6. clear() Create a list of random numbers, then clear it using clear()."
   ]
  },
  {
   "cell_type": "code",
   "execution_count": 37,
   "id": "a6ce8b8a-f335-4fd2-9195-ea3853290c60",
   "metadata": {},
   "outputs": [
    {
     "name": "stdout",
     "output_type": "stream",
     "text": [
      "[]\n"
     ]
    }
   ],
   "source": [
    "randwm_list = [1,5,9,7,5,3]\n",
    "randwm_list.clear()\n",
    "print(randwm_list)"
   ]
  },
  {
   "cell_type": "markdown",
   "id": "c5f6b0cb-7729-47bc-9d9b-771724822f83",
   "metadata": {},
   "source": [
    "# Dictionary Function Exercises"
   ]
  },
  {
   "cell_type": "markdown",
   "id": "459035d0-1f9a-4858-b878-19dbb8efe7f6",
   "metadata": {},
   "source": [
    "1. Create a dictionary of country capitals. Use get() to retrieve the capital of 'France', with a default value if it’s not in the dictionary."
   ]
  },
  {
   "cell_type": "code",
   "execution_count": 38,
   "id": "ef8b9d25-82d2-425b-a0dd-44f97dfb659c",
   "metadata": {},
   "outputs": [
    {
     "name": "stdout",
     "output_type": "stream",
     "text": [
      "city is not found\n"
     ]
    }
   ],
   "source": [
    "my_dict = {\n",
    "    'USA': 'Washington, D.C.',\n",
    "    'Japan': 'Tokyo',\n",
    "    'India': 'New Delhi',\n",
    "    'Germany': 'Berlin',\n",
    "    'Canada': 'Ottawa'\n",
    "}\n",
    "print(my_dict.get(\"france\",\"city is not found\"))"
   ]
  },
  {
   "cell_type": "markdown",
   "id": "6b342aad-a015-4a73-bfce-018a37588c02",
   "metadata": {},
   "source": [
    "2. Make a dictionary of programming languages and their popular frameworks. Use keys() to get a list of all languages."
   ]
  },
  {
   "cell_type": "code",
   "execution_count": 40,
   "id": "d6017024-b65f-4b36-a603-c4ea6dde7b13",
   "metadata": {},
   "outputs": [
    {
     "name": "stdout",
     "output_type": "stream",
     "text": [
      "dict_keys(['Python', 'JavaScript', 'Java', 'Ruby'])\n"
     ]
    }
   ],
   "source": [
    "languages_and_frameworks = {\n",
    "    'Python': ['Django', 'Flask', 'FastAPI', 'Pyramid'],\n",
    "    'JavaScript': ['React', 'Vue', 'Angular', 'Node.js', 'Express'],\n",
    "    'Java': ['Spring', 'Struts', 'Hibernate', 'JSF'],\n",
    "    'Ruby': ['Ruby on Rails', 'Sinatra', 'Hanami']}\n",
    "x = languages_and_frameworks.keys()\n",
    "print(x)"
   ]
  },
  {
   "cell_type": "markdown",
   "id": "b0c802b4-05e8-4120-b9f5-8b7e754f3b5d",
   "metadata": {},
   "source": [
    "3. Using the previous dictionary, get a list of all frameworks using values()."
   ]
  },
  {
   "cell_type": "code",
   "execution_count": 42,
   "id": "719ece25-0932-4701-9a14-1026ae4900e2",
   "metadata": {},
   "outputs": [
    {
     "name": "stdout",
     "output_type": "stream",
     "text": [
      "dict_values([['Django', 'Flask', 'FastAPI', 'Pyramid'], ['React', 'Vue', 'Angular', 'Node.js', 'Express'], ['Spring', 'Struts', 'Hibernate', 'JSF'], ['Ruby on Rails', 'Sinatra', 'Hanami']])\n"
     ]
    }
   ],
   "source": [
    "y = languages_and_frameworks.values()\n",
    "print(y)"
   ]
  },
  {
   "cell_type": "markdown",
   "id": "8bc9c3ce-b033-4262-a3b1-4213465a9ff2",
   "metadata": {},
   "source": [
    "4. Use items() to get a list of all key-value pairs in a dictionary representing items and their prices."
   ]
  },
  {
   "cell_type": "code",
   "execution_count": 43,
   "id": "aa088f46-4382-4d0d-acfa-f415424958fa",
   "metadata": {},
   "outputs": [
    {
     "name": "stdout",
     "output_type": "stream",
     "text": [
      "dict_items([('Python', ['Django', 'Flask', 'FastAPI', 'Pyramid']), ('JavaScript', ['React', 'Vue', 'Angular', 'Node.js', 'Express']), ('Java', ['Spring', 'Struts', 'Hibernate', 'JSF']), ('Ruby', ['Ruby on Rails', 'Sinatra', 'Hanami'])])\n"
     ]
    }
   ],
   "source": [
    "z = languages_and_frameworks.items()\n",
    "print(z)"
   ]
  },
  {
   "cell_type": "markdown",
   "id": "5fc9e06c-631f-4cc7-b61a-69831e7ca46c",
   "metadata": {},
   "source": [
    "5. Create a dictionary with some initial values, and then use update() to add more items."
   ]
  },
  {
   "cell_type": "code",
   "execution_count": 44,
   "id": "40f6b395-1213-48eb-aeae-05b19f2c600e",
   "metadata": {},
   "outputs": [
    {
     "name": "stdout",
     "output_type": "stream",
     "text": [
      "{'key1': 1, 'key2': 2, 'key3': 3, 'key100000': 44444444}\n"
     ]
    }
   ],
   "source": [
    "some_dict = {\"key1\":1 , \"key2\":2 , \"key3\":3}\n",
    "some_dict.update({\"key100000\":44444444})\n",
    "print(some_dict)"
   ]
  },
  {
   "cell_type": "markdown",
   "id": "e0c7e2fc-441d-48ab-b067-636f097573b4",
   "metadata": {},
   "source": [
    "6. Remove an item from a dictionary of students by using pop(), then store the popped value in a variable."
   ]
  },
  {
   "cell_type": "code",
   "execution_count": 48,
   "id": "d21cd382-a79f-44b1-bee9-6adbda41188d",
   "metadata": {},
   "outputs": [
    {
     "name": "stdout",
     "output_type": "stream",
     "text": [
      "jihad\n"
     ]
    }
   ],
   "source": [
    "second_some_dict = {\"student1\":\"gehad\" , \"student2\":\"jehad\" , \"student3\":\"jihad\"}\n",
    "popped_value = second_some_dict.pop(\"student3\")\n",
    "print(popped_value)\n"
   ]
  },
  {
   "cell_type": "markdown",
   "id": "0d09c404-c74c-429d-b4c0-22dfd2ae0e64",
   "metadata": {},
   "source": [
    "7. Create a dictionary and use clear() to remove all items."
   ]
  },
  {
   "cell_type": "code",
   "execution_count": 49,
   "id": "351ea24f-aaa1-457b-b7f3-31d337db63ec",
   "metadata": {},
   "outputs": [
    {
     "name": "stdout",
     "output_type": "stream",
     "text": [
      "{}\n"
     ]
    }
   ],
   "source": [
    "second_some_dict.clear()\n",
    "print(second_some_dict)"
   ]
  },
  {
   "cell_type": "code",
   "execution_count": null,
   "id": "d7b62e67-5463-4710-825c-bb28a9d7963f",
   "metadata": {},
   "outputs": [],
   "source": []
  }
 ],
 "metadata": {
  "kernelspec": {
   "display_name": "Python 3 (ipykernel)",
   "language": "python",
   "name": "python3"
  },
  "language_info": {
   "codemirror_mode": {
    "name": "ipython",
    "version": 3
   },
   "file_extension": ".py",
   "mimetype": "text/x-python",
   "name": "python",
   "nbconvert_exporter": "python",
   "pygments_lexer": "ipython3",
   "version": "3.12.7"
  }
 },
 "nbformat": 4,
 "nbformat_minor": 5
}
