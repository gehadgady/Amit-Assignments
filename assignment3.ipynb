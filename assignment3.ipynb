{
 "cells": [
  {
   "cell_type": "markdown",
   "id": "24b29eeb-c38a-4a70-b9ba-79ec3bb87b06",
   "metadata": {},
   "source": [
    "1. Write a Python program to add an item to a tuple."
   ]
  },
  {
   "cell_type": "code",
   "execution_count": 15,
   "id": "8e6864ad-81f2-4e45-899d-a0868dfd529c",
   "metadata": {},
   "outputs": [
    {
     "name": "stdout",
     "output_type": "stream",
     "text": [
      "(2, 5, 7, 9, 3, 1, 8, 4, 48)\n"
     ]
    }
   ],
   "source": [
    "my_tuple=(2,5,7,9,3,1,8,4)\n",
    "my_list = list(my_tuple)\n",
    "my_list.append(48)\n",
    "new_tuple = tuple(my_list)\n",
    "print(new_tuple)"
   ]
  },
  {
   "cell_type": "markdown",
   "id": "285d68f8-f0d1-44f6-bedb-5b08bb626406",
   "metadata": {},
   "source": [
    "2. Write a Python program to sum all the items in a list."
   ]
  },
  {
   "cell_type": "code",
   "execution_count": 16,
   "id": "999fbc55-8986-41f1-97b2-ec04d3a55905",
   "metadata": {},
   "outputs": [
    {
     "name": "stdout",
     "output_type": "stream",
     "text": [
      "[2, 5, 7, 9, 3, 1, 8, 4, 48]\n",
      "87\n"
     ]
    }
   ],
   "source": [
    "print(my_list)\n",
    "sum_list=0\n",
    "for i in my_list:\n",
    "    # print(i)\n",
    "    sum_list += i\n",
    "print(sum_list)\n",
    "    "
   ]
  },
  {
   "cell_type": "markdown",
   "id": "d9ed7220-6f32-4d60-88d2-1cb208f57601",
   "metadata": {},
   "source": [
    "3. Write a Python program to multiply all the items in a list."
   ]
  },
  {
   "cell_type": "code",
   "execution_count": 17,
   "id": "bd63ef5f-db64-48ec-b5d8-13084b7ae1b7",
   "metadata": {},
   "outputs": [
    {
     "name": "stdout",
     "output_type": "stream",
     "text": [
      "[2, 5, 7, 9, 3, 1, 8, 4, 48]\n",
      "2903040\n"
     ]
    }
   ],
   "source": [
    "print(my_list)\n",
    "multiply_list=1\n",
    "for i in my_list:\n",
    "    # print(i)\n",
    "    multiply_list *= i\n",
    "print(multiply_list)"
   ]
  },
  {
   "cell_type": "markdown",
   "id": "0c92ad24-d4a9-4f35-a949-7bb9545ef71a",
   "metadata": {},
   "source": [
    "4. Write a Python program to get the smallest number from a list."
   ]
  },
  {
   "cell_type": "code",
   "execution_count": 20,
   "id": "e89d2fe2-ede8-49ee-a9f4-2f704ed65219",
   "metadata": {},
   "outputs": [
    {
     "name": "stdout",
     "output_type": "stream",
     "text": [
      "[2, 5, 7, 9, 3, 1, 8, 4, 48]\n",
      "the smallest number is:  1\n"
     ]
    }
   ],
   "source": [
    "print(my_list)\n",
    "smallest = my_list[0]\n",
    "for i in my_list:\n",
    "    if smallest > i:\n",
    "        smallest = i\n",
    "print(\"the smallest number is: \",smallest)"
   ]
  },
  {
   "cell_type": "markdown",
   "id": "544a2a67-1850-4b26-acec-984e20e056d3",
   "metadata": {},
   "source": [
    "5. Write a Python program to get the largest number from a list."
   ]
  },
  {
   "cell_type": "code",
   "execution_count": 21,
   "id": "47912580-b6e0-4a50-9e0b-7d51549f310e",
   "metadata": {},
   "outputs": [
    {
     "name": "stdout",
     "output_type": "stream",
     "text": [
      "[2, 5, 7, 9, 3, 1, 8, 4, 48]\n",
      "the largest number is:  48\n"
     ]
    }
   ],
   "source": [
    "print(my_list)\n",
    "largest = my_list[0]\n",
    "for i in my_list:\n",
    "    if largest < i:\n",
    "        largest = i\n",
    "print(\"the largest number is: \",largest)"
   ]
  },
  {
   "cell_type": "markdown",
   "id": "303adf0a-3852-4c8c-9ac5-83c995a800be",
   "metadata": {},
   "source": [
    "6. Write a Python program to count the number of strings from a given list of strings."
   ]
  },
  {
   "cell_type": "code",
   "execution_count": 23,
   "id": "4ec44e31-7e39-4cac-a6b6-ed53043e7b04",
   "metadata": {},
   "outputs": [
    {
     "name": "stdout",
     "output_type": "stream",
     "text": [
      "15\n"
     ]
    }
   ],
   "source": [
    "my_stringlist=[\"one\",\"two\",\"three\",\"four\"]\n",
    "count_strings=0\n",
    "for i in my_stringlist:\n",
    "    for j in i:\n",
    "        count_strings +=1\n",
    "print(count_strings)"
   ]
  },
  {
   "cell_type": "markdown",
   "id": "9411790f-155e-4cd5-82d1-f6f8834d7696",
   "metadata": {},
   "source": [
    "7. Write a Python program to clone or copy a list"
   ]
  },
  {
   "cell_type": "code",
   "execution_count": 26,
   "id": "e4c95c2a-4bd6-434d-9d0f-59f78208d2cb",
   "metadata": {},
   "outputs": [
    {
     "name": "stdout",
     "output_type": "stream",
     "text": [
      "[2, 5, 7, 9, 3, 1, 8, 4, 48]\n",
      "[2, 5, 7, 9, 3, 1, 8, 4, 48]\n"
     ]
    }
   ],
   "source": [
    "print(my_list)\n",
    "clone_newList = my_list.copy()\n",
    "print(clone_newList)"
   ]
  },
  {
   "cell_type": "markdown",
   "id": "3fef18eb-d1e8-49ed-bf50-b0ed8985d4e6",
   "metadata": {},
   "source": [
    "8. Write a Python program to remove item(s) from a given set."
   ]
  },
  {
   "cell_type": "code",
   "execution_count": 28,
   "id": "0cfd356b-8337-42b3-8f8b-c179b8e9cf59",
   "metadata": {},
   "outputs": [
    {
     "name": "stdout",
     "output_type": "stream",
     "text": [
      "{1, 2, 3, 5, 7, 8, 9, 48}\n"
     ]
    }
   ],
   "source": [
    "my_set={2, 5, 7, 9, 3, 1, 8, 4, 48}\n",
    "my_set.remove(4)\n",
    "print(my_set)"
   ]
  },
  {
   "cell_type": "markdown",
   "id": "50d9c23c-b35c-4201-9432-fc58f1c3cf75",
   "metadata": {},
   "source": [
    "9. Write a Python program to check if a set is a subset of another set."
   ]
  },
  {
   "cell_type": "code",
   "execution_count": 29,
   "id": "2c6981fb-afc1-410e-b820-dd55a986bd08",
   "metadata": {},
   "outputs": [
    {
     "name": "stdout",
     "output_type": "stream",
     "text": [
      "is set two s subset of set one? answer is:  True\n"
     ]
    }
   ],
   "source": [
    "set_one = {4,5,7}\n",
    "set_two = {4,5}\n",
    "print(\"is set two s subset of set one? answer is: \", set_two.issubset(set_one))"
   ]
  },
  {
   "cell_type": "markdown",
   "id": "39b654a7-4b9b-436d-8089-eaf7a2f001cd",
   "metadata": {},
   "source": [
    "10. Write a Python program to remove all elements from a given set."
   ]
  },
  {
   "cell_type": "code",
   "execution_count": 31,
   "id": "b86a2ec3-397d-41f4-9365-59d0ecc8d74b",
   "metadata": {},
   "outputs": [
    {
     "name": "stdout",
     "output_type": "stream",
     "text": [
      "set()\n"
     ]
    }
   ],
   "source": [
    "set_three={5,8,6,3,2,8,2,6,2,3,3}\n",
    "set_three.clear()\n",
    "print(set_three)"
   ]
  },
  {
   "cell_type": "markdown",
   "id": "77f0e971-dd0b-4781-b7a9-2fdb014d6f72",
   "metadata": {},
   "source": [
    "11. Write a Python program to find the maximum and minimum values in a set."
   ]
  },
  {
   "cell_type": "code",
   "execution_count": 34,
   "id": "325613cf-613f-467d-b33c-44da0994ff21",
   "metadata": {},
   "outputs": [
    {
     "name": "stdout",
     "output_type": "stream",
     "text": [
      "min value:  0\n",
      "max value:  88\n"
     ]
    }
   ],
   "source": [
    "set_four={5,1,5,8,88,3,4,0,5}\n",
    "print(\"min value: \" ,min(set_four))\n",
    "print(\"max value: \" ,max(set_four))"
   ]
  },
  {
   "cell_type": "markdown",
   "id": "fbfc9cd3-12f0-452b-9681-7abb3827c6b6",
   "metadata": {},
   "source": [
    "12. Write a Python program to find the index of an item in a tuple."
   ]
  },
  {
   "cell_type": "code",
   "execution_count": 36,
   "id": "9b47c388-4465-410d-8d63-2b089f3815a4",
   "metadata": {},
   "outputs": [
    {
     "name": "stdout",
     "output_type": "stream",
     "text": [
      "(2, 5, 7, 9, 3, 1, 8, 4)\n",
      "the index of number 3 is:  4\n"
     ]
    }
   ],
   "source": [
    "print(my_tuple)\n",
    "print(\"the index of number 3 is: \", my_tuple.index(3))"
   ]
  },
  {
   "cell_type": "markdown",
   "id": "88853dcb-0980-4ad5-8fbe-f369e7589569",
   "metadata": {},
   "source": [
    "13. Write a Python program to convert a tuple to a dictionary."
   ]
  },
  {
   "cell_type": "code",
   "execution_count": 39,
   "id": "409145c6-b123-4621-85f2-8722ccfc1bb4",
   "metadata": {},
   "outputs": [
    {
     "name": "stdout",
     "output_type": "stream",
     "text": [
      "{5: 'five', 6: 'six', 7: 'seven'}\n"
     ]
    }
   ],
   "source": [
    "inputTuple = ((5, \"five\"), (6, \"six\"), (7, \"seven\"))\n",
    "print(dict((x,y) for x, y in inputTuple))"
   ]
  },
  {
   "cell_type": "markdown",
   "id": "355bad10-a893-42a4-b5ca-c049c331bdf0",
   "metadata": {},
   "source": [
    "14. Write a Python program to unzip a list of tuples into individual lists."
   ]
  },
  {
   "cell_type": "code",
   "execution_count": 40,
   "id": "4ffb2a5a-30ab-4e02-a504-63ca487bf45b",
   "metadata": {},
   "outputs": [
    {
     "name": "stdout",
     "output_type": "stream",
     "text": [
      "[2, 4, 7]\n",
      "[1, 2, 5]\n",
      "[9, 8, 6]\n"
     ]
    }
   ],
   "source": [
    "list_of_tuples = [(2,4,7),(1,2,5),(9,8,6)]\n",
    "for i in list_of_tuples:\n",
    "    print(list(i))"
   ]
  },
  {
   "cell_type": "markdown",
   "id": "3ad8e783-0258-49cd-80f2-ac6eb4c0d49c",
   "metadata": {},
   "source": [
    "15. Write a Python program to reverse a tuple."
   ]
  },
  {
   "cell_type": "code",
   "execution_count": 44,
   "id": "55f51055-273a-481f-859b-9f729140d6c6",
   "metadata": {},
   "outputs": [
    {
     "name": "stdout",
     "output_type": "stream",
     "text": [
      "(2, 5, 7, 9, 3, 1, 8, 4)\n",
      "(4, 8, 1, 3, 9, 7, 5, 2)\n"
     ]
    }
   ],
   "source": [
    "print(my_tuple)\n",
    "print(my_tuple[::-1])\n",
    "    "
   ]
  },
  {
   "cell_type": "markdown",
   "id": "21f92731-8952-49ec-9c0e-2f9f790ddec4",
   "metadata": {},
   "source": [
    "16. Write a Python program to convert a list of tuples into a dictionary."
   ]
  },
  {
   "cell_type": "code",
   "execution_count": 45,
   "id": "a7298e28-10bc-4df4-a280-f7e7da739f5e",
   "metadata": {},
   "outputs": [
    {
     "name": "stdout",
     "output_type": "stream",
     "text": [
      "{'four': 4, 'two': 2, 'eight': 8}\n"
     ]
    }
   ],
   "source": [
    "list_of_tupless = [(\"four\",4),(\"two\",2),(\"eight\",8)]\n",
    "print(dict((x,y)for x, y in list_of_tupless))"
   ]
  },
  {
   "cell_type": "markdown",
   "id": "ffc431d4-eabd-4a23-9c66-bf065c357352",
   "metadata": {},
   "source": [
    "17. Write a Python program to replace the last value of tuples in a list. Sample list: [(10, 20, 40), (40, 50, 60), (70, 80, 90)] Expected Output: [(10, 20, 100), (40, 50, 100), (70, 80, 100)]"
   ]
  },
  {
   "cell_type": "code",
   "execution_count": 49,
   "id": "468b7bea-bfdd-4e04-9765-452ae73874d7",
   "metadata": {},
   "outputs": [
    {
     "name": "stdout",
     "output_type": "stream",
     "text": [
      "[(10, 20, 100), (40, 50, 100), (70, 80, 100)]\n"
     ]
    }
   ],
   "source": [
    "Sample_list= [(10, 20, 40), (40, 50, 60), (70, 80, 90)] \n",
    "new_list=[]\n",
    "for i in Sample_list:\n",
    "    new_list.append(i[:-1]+(100,))\n",
    "print(new_list)"
   ]
  },
  {
   "cell_type": "markdown",
   "id": "2abcbb3a-ddfe-4746-98b1-8136a2b4fac1",
   "metadata": {},
   "source": [
    "18. Write a Python program to sort a tuple by its float element."
   ]
  },
  {
   "cell_type": "code",
   "execution_count": 62,
   "id": "c8def4a5-ceff-4352-b5da-affaffc75bda",
   "metadata": {},
   "outputs": [
    {
     "name": "stdout",
     "output_type": "stream",
     "text": [
      "[('item2', 15.1), ('item1', 24.2), ('item3', 24.5)]\n"
     ]
    }
   ],
   "source": [
    "data = [('item1', 24.20), ('item2', 15.10), ('item3', 24.5)]\n",
    "new_data = sorted(data, key=lambda x: x[1], reverse=False) \n",
    "print(new_data)"
   ]
  },
  {
   "cell_type": "code",
   "execution_count": null,
   "id": "a0592f38-653a-42c8-9f83-e298bda280d7",
   "metadata": {},
   "outputs": [],
   "source": []
  }
 ],
 "metadata": {
  "kernelspec": {
   "display_name": "Python 3 (ipykernel)",
   "language": "python",
   "name": "python3"
  },
  "language_info": {
   "codemirror_mode": {
    "name": "ipython",
    "version": 3
   },
   "file_extension": ".py",
   "mimetype": "text/x-python",
   "name": "python",
   "nbconvert_exporter": "python",
   "pygments_lexer": "ipython3",
   "version": "3.12.7"
  }
 },
 "nbformat": 4,
 "nbformat_minor": 5
}
